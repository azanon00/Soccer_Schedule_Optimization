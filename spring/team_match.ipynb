{
 "cells": [
  {
   "cell_type": "code",
   "execution_count": 1,
   "metadata": {},
   "outputs": [],
   "source": [
    "using DataFrames, CSV, JuMP, Gurobi, Plots, Random"
   ]
  },
  {
   "cell_type": "code",
   "execution_count": 2,
   "metadata": {},
   "outputs": [],
   "source": [
    "const GRB_ENV = Gurobi.Env(output_flag=0);"
   ]
  },
  {
   "cell_type": "code",
   "execution_count": 3,
   "metadata": {},
   "outputs": [
    {
     "data": {
      "text/plain": [
       "team_match (generic function with 1 method)"
      ]
     },
     "metadata": {},
     "output_type": "display_data"
    }
   ],
   "source": [
    "function team_match()\n",
    "    # create model\n",
    "    model = Model(() -> Gurobi.Optimizer(GRB_ENV))\n",
    "    set_optimizer_attribute(model, \"TimeLimit\", 180)\n",
    "\n",
    "    # PARAMETERS\n",
    "    N = 20 # teams\n",
    "    W = 38\n",
    "\n",
    "    # VARIABLES\n",
    "    @variable(model, x[i = 1:N, j = 1:N, w = 1:W], Bin) # 1 if team i plays team j on week w, 0 otherwise\n",
    "\n",
    "    # OBJECTIVE FUNCTION\n",
    "    @objective(model, Max, sum(x[i,j,w] for i in 1:N, j in 1:N, w in 1:W))\n",
    "\n",
    "    # CONSTRAINTS\n",
    "    # teams can never play against themselves\n",
    "    @constraint(model, [i = 1:N, w = 1:W], x[i, i, w] == 0)\n",
    "\n",
    "    # each team can only play at most one game per week\n",
    "    @constraint(model, [i = 1:N, w = 1:W], sum(x[i, j, w] + x[j, i, w] for j in 1:N) <= 1)\n",
    "\n",
    "    for i=1:N\n",
    "        for j=1:N\n",
    "            if i!=j\n",
    "                # each game is against a different team, team play against each other team at most once in first half of season\n",
    "                @constraint(model, sum(x[i, j, w] + x[j, i, w] for w in 1:Int(W/2)) == 1)\n",
    "                \n",
    "                # each game is against a different team, team play against each other team at most once in second half of season\n",
    "                @constraint(model, sum(x[i, j, w] + x[j, i, w] for w in Int((W/2))+1:W) == 1)\n",
    "\n",
    "                # every team plays every other team once at home\n",
    "                @constraint(model, sum(x[i, j, w] for w in 1:W) == 1)\n",
    "            end\n",
    "        end\n",
    "    end\n",
    "\n",
    "    # no more than 2 straight home games\n",
    "    @constraint(model, [i = 1:N, w = 1:W-2], sum(x[i, :, w] + x[i, :, w+1] + x[i, :, w+2]) <= 2)\n",
    "\n",
    "    # no more than 2 straight away games\n",
    "    @constraint(model, [j = 1:N, w = 1:W-2], sum(x[:, j, w] + x[:, j, w+1] + x[:, j, w+2]) <= 2)\n",
    "\n",
    "\n",
    "    # OPTIMIZE\n",
    "    # solvetime = @elapsed optimize!(model)\n",
    "    optimize!(model)\n",
    "\n",
    "\n",
    "    return value.(x)\n",
    "end"
   ]
  },
  {
   "cell_type": "code",
   "execution_count": 4,
   "metadata": {},
   "outputs": [
    {
     "data": {
      "text/plain": [
       "20×20×38 Array{Float64, 3}:\n",
       "[:, :, 1] =\n",
       "  0.0  -0.0  -0.0  -0.0  -0.0   1.0  …   0.0  -0.0   0.0  -0.0   0.0  -0.0\n",
       " -0.0   0.0  -0.0  -0.0  -0.0  -0.0     -0.0  -0.0  -0.0   0.0  -0.0  -0.0\n",
       "  0.0  -0.0   0.0  -0.0  -0.0  -0.0     -0.0  -0.0  -0.0  -0.0  -0.0  -0.0\n",
       " -0.0   0.0  -0.0   0.0  -0.0  -0.0     -0.0  -0.0  -0.0  -0.0  -0.0  -0.0\n",
       "  0.0  -0.0  -0.0  -0.0   0.0  -0.0     -0.0  -0.0   0.0  -0.0  -0.0  -0.0\n",
       " -0.0  -0.0  -0.0  -0.0  -0.0   0.0  …  -0.0  -0.0  -0.0  -0.0  -0.0  -0.0\n",
       " -0.0  -0.0  -0.0  -0.0  -0.0  -0.0     -0.0  -0.0  -0.0  -0.0  -0.0  -0.0\n",
       " -0.0  -0.0   1.0  -0.0  -0.0  -0.0     -0.0  -0.0  -0.0  -0.0   0.0  -0.0\n",
       " -0.0  -0.0  -0.0  -0.0  -0.0  -0.0     -0.0  -0.0  -0.0  -0.0  -0.0  -0.0\n",
       " -0.0   1.0  -0.0  -0.0  -0.0  -0.0     -0.0  -0.0  -0.0  -0.0  -0.0  -0.0\n",
       " -0.0  -0.0  -0.0  -0.0   1.0  -0.0  …  -0.0  -0.0  -0.0  -0.0  -0.0  -0.0\n",
       " -0.0  -0.0  -0.0   1.0  -0.0  -0.0     -0.0  -0.0  -0.0  -0.0  -0.0  -0.0\n",
       " -0.0  -0.0  -0.0  -0.0  -0.0  -0.0      0.0  -0.0   0.0  -0.0   0.0  -0.0\n",
       " -0.0  -0.0  -0.0  -0.0  -0.0  -0.0     -0.0  -0.0  -0.0  -0.0  -0.0  -0.0\n",
       " -0.0  -0.0  -0.0  -0.0  -0.0  -0.0      0.0  -0.0  -0.0  -0.0  -0.0  -0.0\n",
       " -0.0  -0.0  -0.0  -0.0  -0.0  -0.0  …  -0.0   0.0  -0.0  -0.0  -0.0  -0.0\n",
       " -0.0  -0.0  -0.0  -0.0  -0.0  -0.0     -0.0  -0.0   0.0  -0.0  -0.0  -0.0\n",
       " -0.0  -0.0  -0.0  -0.0  -0.0  -0.0     -0.0   1.0  -0.0   0.0  -0.0  -0.0\n",
       " -0.0  -0.0  -0.0  -0.0  -0.0  -0.0     -0.0  -0.0  -0.0  -0.0   0.0  -0.0\n",
       " -0.0  -0.0  -0.0  -0.0  -0.0  -0.0     -0.0  -0.0   1.0  -0.0  -0.0   0.0\n",
       "\n",
       "[:, :, 2] =\n",
       "  0.0  -0.0  -0.0  -0.0  -0.0  -0.0  …  -0.0  -0.0  -0.0  -0.0  -0.0  -0.0\n",
       " -0.0   0.0  -0.0  -0.0  -0.0  -0.0     -0.0  -0.0  -0.0  -0.0  -0.0  -0.0\n",
       " -0.0  -0.0   0.0  -0.0  -0.0   0.0      1.0  -0.0  -0.0  -0.0  -0.0  -0.0\n",
       " -0.0   0.0  -0.0   0.0  -0.0   0.0     -0.0  -0.0  -0.0  -0.0  -0.0  -0.0\n",
       " -0.0  -0.0  -0.0  -0.0   0.0  -0.0     -0.0  -0.0  -0.0  -0.0  -0.0  -0.0\n",
       " -0.0  -0.0  -0.0  -0.0  -0.0   0.0  …  -0.0  -0.0  -0.0  -0.0  -0.0  -0.0\n",
       " -0.0  -0.0  -0.0  -0.0  -0.0  -0.0     -0.0  -0.0  -0.0  -0.0  -0.0  -0.0\n",
       " -0.0  -0.0  -0.0  -0.0   1.0  -0.0     -0.0  -0.0  -0.0  -0.0  -0.0  -0.0\n",
       "  0.0  -0.0   0.0   0.0   0.0   0.0     -0.0   0.0   0.0   0.0   0.0  -0.0\n",
       " -0.0  -0.0  -0.0   0.0   0.0  -0.0     -0.0  -0.0  -0.0  -0.0   0.0   0.0\n",
       "  1.0  -0.0  -0.0  -0.0  -0.0  -0.0  …  -0.0  -0.0  -0.0  -0.0  -0.0  -0.0\n",
       " -0.0  -0.0  -0.0  -0.0  -0.0  -0.0     -0.0  -0.0  -0.0  -0.0   1.0  -0.0\n",
       " -0.0  -0.0  -0.0  -0.0  -0.0  -0.0     -0.0  -0.0  -0.0  -0.0  -0.0  -0.0\n",
       " -0.0  -0.0  -0.0   1.0  -0.0  -0.0     -0.0  -0.0  -0.0  -0.0  -0.0  -0.0\n",
       " -0.0  -0.0  -0.0  -0.0  -0.0  -0.0      0.0  -0.0  -0.0  -0.0  -0.0  -0.0\n",
       " -0.0  -0.0  -0.0  -0.0  -0.0  -0.0  …  -0.0   0.0  -0.0  -0.0  -0.0   1.0\n",
       " -0.0  -0.0  -0.0  -0.0  -0.0  -0.0     -0.0  -0.0   0.0  -0.0  -0.0  -0.0\n",
       " -0.0  -0.0  -0.0  -0.0  -0.0  -0.0     -0.0  -0.0   1.0   0.0  -0.0  -0.0\n",
       " -0.0  -0.0  -0.0  -0.0  -0.0  -0.0     -0.0  -0.0  -0.0  -0.0   0.0  -0.0\n",
       " -0.0  -0.0  -0.0  -0.0  -0.0  -0.0     -0.0  -0.0  -0.0  -0.0  -0.0   0.0\n",
       "\n",
       "[:, :, 3] =\n",
       "  0.0  -0.0  -0.0  -0.0  -0.0  -0.0  …   0.0  -0.0  -0.0  -0.0  -0.0  -0.0\n",
       " -0.0   0.0  -0.0  -0.0  -0.0  -0.0      0.0  -0.0  -0.0   0.0   0.0  -0.0\n",
       " -0.0  -0.0   0.0  -0.0  -0.0  -0.0     -0.0  -0.0  -0.0  -0.0  -0.0  -0.0\n",
       " -0.0   0.0  -0.0   0.0  -0.0  -0.0     -0.0  -0.0  -0.0   1.0  -0.0  -0.0\n",
       " -0.0   0.0  -0.0  -0.0   0.0   0.0      0.0  -0.0  -0.0  -0.0  -0.0  -0.0\n",
       " -0.0  -0.0  -0.0  -0.0  -0.0   0.0  …  -0.0  -0.0  -0.0  -0.0  -0.0  -0.0\n",
       " -0.0   1.0  -0.0  -0.0  -0.0  -0.0     -0.0  -0.0  -0.0  -0.0  -0.0  -0.0\n",
       " -0.0  -0.0  -0.0  -0.0  -0.0  -0.0     -0.0  -0.0  -0.0  -0.0  -0.0  -0.0\n",
       " -0.0  -0.0  -0.0  -0.0  -0.0  -0.0     -0.0  -0.0  -0.0  -0.0  -0.0  -0.0\n",
       " -0.0  -0.0  -0.0  -0.0  -0.0  -0.0     -0.0  -0.0  -0.0  -0.0  -0.0   1.0\n",
       " -0.0  -0.0  -0.0  -0.0  -0.0  -0.0  …  -0.0  -0.0  -0.0  -0.0  -0.0  -0.0\n",
       " -0.0  -0.0  -0.0  -0.0  -0.0  -0.0     -0.0  -0.0  -0.0  -0.0   0.0  -0.0\n",
       " -0.0  -0.0   1.0  -0.0  -0.0  -0.0     -0.0  -0.0  -0.0  -0.0  -0.0  -0.0\n",
       " -0.0  -0.0  -0.0  -0.0  -0.0  -0.0     -0.0  -0.0  -0.0  -0.0  -0.0  -0.0\n",
       " -0.0  -0.0  -0.0  -0.0  -0.0  -0.0      0.0  -0.0  -0.0  -0.0  -0.0  -0.0\n",
       " -0.0  -0.0  -0.0  -0.0  -0.0   1.0  …  -0.0   0.0  -0.0  -0.0  -0.0  -0.0\n",
       "  1.0  -0.0  -0.0  -0.0  -0.0  -0.0      0.0  -0.0   0.0  -0.0  -0.0  -0.0\n",
       " -0.0  -0.0  -0.0  -0.0  -0.0  -0.0     -0.0  -0.0  -0.0   0.0  -0.0  -0.0\n",
       " -0.0  -0.0  -0.0  -0.0  -0.0  -0.0     -0.0  -0.0  -0.0  -0.0   0.0  -0.0\n",
       " -0.0  -0.0  -0.0  -0.0  -0.0  -0.0     -0.0  -0.0  -0.0  -0.0  -0.0   0.0\n",
       "\n",
       ";;; … \n",
       "\n",
       "[:, :, 36] =\n",
       "  0.0  -0.0  -0.0  -0.0  -0.0  -0.0  …  -0.0  -0.0  -0.0  -0.0  -0.0  -0.0\n",
       "  1.0   0.0  -0.0  -0.0  -0.0  -0.0     -0.0  -0.0  -0.0  -0.0  -0.0  -0.0\n",
       " -0.0  -0.0   0.0  -0.0  -0.0  -0.0     -0.0  -0.0  -0.0  -0.0   1.0  -0.0\n",
       " -0.0  -0.0  -0.0   0.0  -0.0  -0.0     -0.0  -0.0  -0.0  -0.0  -0.0  -0.0\n",
       "  0.0  -0.0  -0.0  -0.0   0.0  -0.0     -0.0  -0.0  -0.0  -0.0  -0.0  -0.0\n",
       " -0.0  -0.0  -0.0  -0.0  -0.0   0.0  …  -0.0  -0.0  -0.0  -0.0  -0.0  -0.0\n",
       " -0.0  -0.0  -0.0  -0.0  -0.0  -0.0     -0.0  -0.0  -0.0  -0.0  -0.0  -0.0\n",
       " -0.0  -0.0  -0.0  -0.0  -0.0  -0.0     -0.0  -0.0  -0.0  -0.0  -0.0  -0.0\n",
       " -0.0  -0.0  -0.0  -0.0  -0.0  -0.0     -0.0  -0.0  -0.0  -0.0  -0.0  -0.0\n",
       " -0.0  -0.0  -0.0  -0.0  -0.0  -0.0     -0.0  -0.0  -0.0  -0.0  -0.0  -0.0\n",
       " -0.0  -0.0  -0.0  -0.0  -0.0  -0.0  …  -0.0  -0.0  -0.0  -0.0  -0.0  -0.0\n",
       " -0.0  -0.0  -0.0  -0.0  -0.0  -0.0     -0.0  -0.0  -0.0  -0.0  -0.0   1.0\n",
       " -0.0  -0.0  -0.0  -0.0  -0.0  -0.0     -0.0  -0.0  -0.0  -0.0  -0.0  -0.0\n",
       " -0.0  -0.0  -0.0  -0.0  -0.0  -0.0     -0.0  -0.0  -0.0  -0.0  -0.0  -0.0\n",
       " -0.0  -0.0  -0.0  -0.0  -0.0  -0.0      0.0  -0.0   1.0  -0.0  -0.0  -0.0\n",
       " -0.0  -0.0  -0.0   1.0  -0.0  -0.0  …  -0.0   0.0  -0.0  -0.0  -0.0  -0.0\n",
       "  0.0  -0.0  -0.0  -0.0  -0.0  -0.0     -0.0  -0.0   0.0  -0.0  -0.0  -0.0\n",
       " -0.0  -0.0  -0.0  -0.0   0.0  -0.0     -0.0  -0.0  -0.0   0.0  -0.0  -0.0\n",
       " -0.0  -0.0  -0.0  -0.0  -0.0  -0.0     -0.0  -0.0  -0.0  -0.0   0.0  -0.0\n",
       " -0.0  -0.0  -0.0  -0.0  -0.0  -0.0     -0.0  -0.0  -0.0  -0.0  -0.0   0.0\n",
       "\n",
       "[:, :, 37] =\n",
       "  0.0  -0.0  -0.0   0.0  -0.0  -0.0  …  -0.0  -0.0  -0.0  -0.0  -0.0  -0.0\n",
       " -0.0   0.0  -0.0  -0.0  -0.0  -0.0     -0.0  -0.0   0.0  -0.0   0.0  -0.0\n",
       " -0.0  -0.0   0.0  -0.0  -0.0  -0.0     -0.0  -0.0  -0.0  -0.0  -0.0  -0.0\n",
       " -0.0  -0.0  -0.0   0.0  -0.0  -0.0     -0.0  -0.0  -0.0  -0.0  -0.0  -0.0\n",
       " -0.0  -0.0  -0.0  -0.0   0.0  -0.0     -0.0  -0.0  -0.0  -0.0  -0.0  -0.0\n",
       "  1.0  -0.0  -0.0  -0.0  -0.0   0.0  …  -0.0  -0.0  -0.0   0.0  -0.0  -0.0\n",
       " -0.0  -0.0   1.0  -0.0  -0.0  -0.0     -0.0  -0.0  -0.0  -0.0  -0.0  -0.0\n",
       " -0.0   1.0  -0.0  -0.0  -0.0  -0.0     -0.0  -0.0  -0.0  -0.0  -0.0  -0.0\n",
       " -0.0  -0.0  -0.0  -0.0  -0.0  -0.0     -0.0  -0.0  -0.0  -0.0  -0.0  -0.0\n",
       " -0.0  -0.0  -0.0  -0.0  -0.0  -0.0     -0.0  -0.0  -0.0  -0.0  -0.0  -0.0\n",
       " -0.0  -0.0  -0.0  -0.0  -0.0  -0.0  …  -0.0  -0.0  -0.0  -0.0  -0.0  -0.0\n",
       " -0.0  -0.0  -0.0  -0.0  -0.0  -0.0     -0.0  -0.0  -0.0  -0.0  -0.0  -0.0\n",
       " -0.0  -0.0  -0.0  -0.0  -0.0  -0.0     -0.0  -0.0  -0.0   1.0  -0.0  -0.0\n",
       " -0.0  -0.0  -0.0  -0.0  -0.0  -0.0      1.0  -0.0  -0.0  -0.0  -0.0  -0.0\n",
       " -0.0  -0.0  -0.0  -0.0  -0.0  -0.0      0.0  -0.0  -0.0  -0.0  -0.0  -0.0\n",
       " -0.0  -0.0  -0.0  -0.0  -0.0  -0.0  …  -0.0   0.0  -0.0  -0.0  -0.0  -0.0\n",
       " -0.0  -0.0  -0.0  -0.0   1.0  -0.0     -0.0  -0.0   0.0  -0.0  -0.0  -0.0\n",
       " -0.0  -0.0  -0.0  -0.0  -0.0  -0.0     -0.0   0.0  -0.0   0.0  -0.0  -0.0\n",
       " -0.0  -0.0  -0.0  -0.0  -0.0  -0.0     -0.0   1.0  -0.0  -0.0   0.0  -0.0\n",
       " -0.0  -0.0  -0.0  -0.0  -0.0  -0.0     -0.0  -0.0  -0.0   0.0  -0.0   0.0\n",
       "\n",
       "[:, :, 38] =\n",
       "  0.0  -0.0  -0.0  -0.0  -0.0  -0.0  …  -0.0  -0.0  -0.0   0.0  -0.0   1.0\n",
       " -0.0   0.0  -0.0  -0.0  -0.0  -0.0     -0.0  -0.0  -0.0  -0.0  -0.0  -0.0\n",
       " -0.0  -0.0   0.0  -0.0  -0.0   0.0     -0.0  -0.0  -0.0  -0.0  -0.0  -0.0\n",
       " -0.0  -0.0  -0.0   0.0  -0.0  -0.0     -0.0  -0.0  -0.0   0.0  -0.0  -0.0\n",
       "  0.0  -0.0  -0.0  -0.0   0.0  -0.0      0.0  -0.0   0.0  -0.0  -0.0  -0.0\n",
       " -0.0  -0.0  -0.0  -0.0  -0.0   0.0  …  -0.0  -0.0  -0.0  -0.0  -0.0  -0.0\n",
       " -0.0   0.0  -0.0  -0.0  -0.0  -0.0     -0.0  -0.0  -0.0  -0.0  -0.0  -0.0\n",
       " -0.0  -0.0  -0.0  -0.0  -0.0  -0.0      1.0  -0.0  -0.0  -0.0  -0.0  -0.0\n",
       " -0.0  -0.0  -0.0  -0.0  -0.0  -0.0     -0.0   1.0  -0.0  -0.0  -0.0   0.0\n",
       " -0.0  -0.0  -0.0  -0.0  -0.0  -0.0     -0.0  -0.0  -0.0  -0.0  -0.0  -0.0\n",
       " -0.0  -0.0  -0.0   0.0  -0.0  -0.0  …  -0.0  -0.0  -0.0  -0.0  -0.0  -0.0\n",
       " -0.0  -0.0  -0.0  -0.0  -0.0  -0.0     -0.0  -0.0  -0.0  -0.0  -0.0  -0.0\n",
       " -0.0  -0.0  -0.0   0.0  -0.0  -0.0     -0.0  -0.0  -0.0  -0.0  -0.0  -0.0\n",
       " -0.0  -0.0   0.0  -0.0  -0.0  -0.0     -0.0   0.0  -0.0  -0.0  -0.0  -0.0\n",
       " -0.0  -0.0  -0.0  -0.0  -0.0  -0.0      0.0  -0.0  -0.0  -0.0  -0.0  -0.0\n",
       " -0.0  -0.0   0.0   0.0  -0.0   0.0  …  -0.0   0.0  -0.0  -0.0  -0.0   0.0\n",
       " -0.0  -0.0  -0.0  -0.0  -0.0  -0.0     -0.0  -0.0   0.0  -0.0  -0.0  -0.0\n",
       " -0.0   1.0  -0.0  -0.0  -0.0  -0.0     -0.0   0.0  -0.0   0.0  -0.0  -0.0\n",
       " -0.0  -0.0  -0.0  -0.0   0.0   1.0     -0.0  -0.0  -0.0  -0.0   0.0  -0.0\n",
       " -0.0  -0.0  -0.0  -0.0  -0.0  -0.0      0.0  -0.0  -0.0  -0.0  -0.0   0.0"
      ]
     },
     "metadata": {},
     "output_type": "display_data"
    }
   ],
   "source": [
    "x = team_match()"
   ]
  },
  {
   "cell_type": "code",
   "execution_count": 52,
   "metadata": {},
   "outputs": [
    {
     "data": {
      "text/plain": [
       "10.0"
      ]
     },
     "metadata": {},
     "output_type": "display_data"
    }
   ],
   "source": [
    "sum(x[:,:,1])"
   ]
  },
  {
   "cell_type": "code",
   "execution_count": null,
   "metadata": {},
   "outputs": [],
   "source": [
    "function table_games_w(x, team)\n",
    "    ## create w dataframes, one for each week, each dataframe contains the games for that week\n",
    "    N = 20\n",
    "    W = 38\n",
    "    table = zeros(W,2)\n",
    "    for w=1:W\n",
    "        for j=1:N\n",
    "            if x[team,j,w] == 1 && x[j,team,w] == 0\n",
    "                table[w,1] = j\n",
    "                table[w,2] = j \n",
    "            elseif x[team,j,w] == 0 && x[j,team,w] == 1\n",
    "                table[w,1] = j\n",
    "                table[w,2] = -j\n",
    "            end\n",
    "        end\n",
    "    end\n",
    "    return table\n",
    "end"
   ]
  },
  {
   "cell_type": "code",
   "execution_count": 7,
   "metadata": {},
   "outputs": [
    {
     "data": {
      "text/plain": [
       "GetC (generic function with 1 method)"
      ]
     },
     "metadata": {},
     "output_type": "display_data"
    }
   ],
   "source": [
    "# C is upper triangular matrix; each entry is the cost of playing in t and then t_\n",
    "function GetC(x,y)\n",
    "    if x == y\n",
    "        return 10\n",
    "    end\n",
    "    return 1/(y-x)\n",
    "end"
   ]
  },
  {
   "cell_type": "code",
   "execution_count": 25,
   "metadata": {},
   "outputs": [
    {
     "data": {
      "text/plain": [
       "schedule_days (generic function with 1 method)"
      ]
     },
     "metadata": {},
     "output_type": "display_data"
    }
   ],
   "source": [
    "function schedule_days(x,u,z)\n",
    "    N=20\n",
    "    W=38\n",
    "    D=4 #playable number of days\n",
    "\n",
    "    # create model\n",
    "    model = Model(() -> Gurobi.Optimizer(GRB_ENV))\n",
    "    set_optimizer_attribute(model, \"TimeLimit\", 180)\n",
    "\n",
    "    # VARIABLES\n",
    "    @variable(model, y[i = 1:N, w = 1:W, d = 1:D], Bin) # 1 if team i plays on day d of week w, 0 otherwise\n",
    "\n",
    "    # OBJECTIVE FUNCTION\n",
    "    @objective(model, Min, \n",
    "        sum(((1-u[i,w])*GetC(d, 7+ d_) \n",
    "            + u[i,w]*(GetC(d, 7+ z[i,w])+GetC(z[i,w], d_)))\n",
    "            *(x[i,j,w]+x[j,i,w])*(x[i,k,w+1]+x[k,i,w+1])*y[i,w,d]*y[i,w+1,d]\n",
    "        for i in 1:N, j in 1:N, k in 1:N, w in 1:W-1, d in 1:D, d_ in 1:D))\n",
    "\n",
    "    # CONSTRAINTS\n",
    "    \n",
    "    # teams who play each other on week w must play on the same day of the week\n",
    "    @constraint(model, [i = 1:N, j = 1:N, w = 1:W, d = 1:D], y[i,w,d]*y[j,w,d] >= x[i,j,w] + x[j,i,w])\n",
    "    \n",
    "    #team can only play as many times as scheduled, IDK IF WE NEED THIS ONE BUT OTHERWISE Y-MATRIX IS ALL 1s\n",
    "    @constraint(model, [i = 1:N, w = 1:W], sum(y[i,w,d] for d in 1:D) <= sum(x[i,j,w] + x[j,i,w] for j in 1:N))\n",
    "\n",
    "    # # maximum of 1 game on day 1\n",
    "    # @constraint(model, [w = 1:W], sum(y[i,w,1] for i in 1:N) <= 2) #2 teams play per game\n",
    "\n",
    "    # # maximum of 4 games on day 2\n",
    "    # @constraint(model, [w = 1:W], sum(y[i,w,2] for i in 1:N) <= 8)\n",
    "\n",
    "    # # maximum of 4 games on day 3\n",
    "    # @constraint(model, [w = 1:W], sum(y[i,w,3] for i in 1:N) <= 8)\n",
    "\n",
    "    # # maximum of 1 game on day 4\n",
    "    # @constraint(model, [w = 1:W], sum(y[i,w,4] for i in 1:N) <= 2)\n",
    "\n",
    "\n",
    "    # OPTIMIZE\n",
    "    # solvetime = @elapsed optimize!(model)\n",
    "    optimize!(model)\n",
    "\n",
    "\n",
    "    return value.(y)\n",
    "end"
   ]
  },
  {
   "cell_type": "code",
   "execution_count": 26,
   "metadata": {},
   "outputs": [
    {
     "ename": "MathOptInterface.ResultIndexBoundsError{MathOptInterface.VariablePrimal}",
     "evalue": "Result index of attribute MathOptInterface.VariablePrimal(1) out of bounds. There are currently 0 solution(s) in the model.",
     "output_type": "error",
     "traceback": [
      "Result index of attribute MathOptInterface.VariablePrimal(1) out of bounds. There are currently 0 solution(s) in the model.\n",
      "\n",
      "Stacktrace:\n",
      "  [1] check_result_index_bounds\n",
      "    @ ~/.julia/packages/MathOptInterface/Ohzb2/src/attributes.jl:207 [inlined]\n",
      "  [2] get(model::Gurobi.Optimizer, attr::MathOptInterface.VariablePrimal, x::MathOptInterface.VariableIndex)\n",
      "    @ Gurobi ~/.julia/packages/Gurobi/VPomg/src/MOI_wrapper/MOI_wrapper.jl:2846\n",
      "  [3] get(b::MathOptInterface.Bridges.LazyBridgeOptimizer{Gurobi.Optimizer}, attr::MathOptInterface.VariablePrimal, index::MathOptInterface.VariableIndex)\n",
      "    @ MathOptInterface.Bridges ~/.julia/packages/MathOptInterface/Ohzb2/src/Bridges/bridge_optimizer.jl:1116\n",
      "  [4] get(model::MathOptInterface.Utilities.CachingOptimizer{MathOptInterface.Bridges.LazyBridgeOptimizer{Gurobi.Optimizer}, MathOptInterface.Utilities.UniversalFallback{MathOptInterface.Utilities.Model{Float64}}}, attr::MathOptInterface.VariablePrimal, index::MathOptInterface.VariableIndex)\n",
      "    @ MathOptInterface.Utilities ~/.julia/packages/MathOptInterface/Ohzb2/src/Utilities/cachingoptimizer.jl:911\n",
      "  [5] _moi_get_result(::MathOptInterface.Utilities.CachingOptimizer{MathOptInterface.Bridges.LazyBridgeOptimizer{Gurobi.Optimizer}, MathOptInterface.Utilities.UniversalFallback{MathOptInterface.Utilities.Model{Float64}}}, ::MathOptInterface.VariablePrimal, ::Vararg{Any})\n",
      "    @ JuMP ~/.julia/packages/JuMP/60Bnj/src/JuMP.jl:1155\n",
      "  [6] get(model::Model, attr::MathOptInterface.VariablePrimal, v::VariableRef)\n",
      "    @ JuMP ~/.julia/packages/JuMP/60Bnj/src/JuMP.jl:1212\n",
      "  [7] value(v::VariableRef; result::Int64)\n",
      "    @ JuMP ~/.julia/packages/JuMP/60Bnj/src/variables.jl:1032\n",
      "  [8] value\n",
      "    @ ~/.julia/packages/JuMP/60Bnj/src/variables.jl:1031 [inlined]\n",
      "  [9] _broadcast_getindex_evalf\n",
      "    @ ./broadcast.jl:670 [inlined]\n",
      " [10] _broadcast_getindex\n",
      "    @ ./broadcast.jl:643 [inlined]\n",
      " [11] getindex\n",
      "    @ ./broadcast.jl:597 [inlined]\n",
      " [12] macro expansion\n",
      "    @ ./broadcast.jl:961 [inlined]\n",
      " [13] macro expansion\n",
      "    @ ./simdloop.jl:77 [inlined]\n",
      " [14] copyto!\n",
      "    @ ./broadcast.jl:960 [inlined]\n",
      " [15] copyto!\n",
      "    @ ./broadcast.jl:913 [inlined]\n",
      " [16] copy\n",
      "    @ ./broadcast.jl:885 [inlined]\n",
      " [17] materialize\n",
      "    @ ./broadcast.jl:860 [inlined]\n",
      " [18] schedule_days(x::Array{Float64, 3}, u::Matrix{Float64}, z::Matrix{Float64})\n",
      "    @ Main ~/Documents/GitHub/Optimization_Project/spring/team_match.ipynb:46\n",
      " [19] top-level scope\n",
      "    @ ~/Documents/GitHub/Optimization_Project/spring/team_match.ipynb:3"
     ]
    }
   ],
   "source": [
    "u = zeros((20,38))\n",
    "z = zeros((20,38))\n",
    "y = schedule_days(x,u,z)"
   ]
  }
 ],
 "metadata": {
  "kernelspec": {
   "display_name": "Julia 1.8.0",
   "language": "julia",
   "name": "julia-1.8"
  },
  "language_info": {
   "file_extension": ".jl",
   "mimetype": "application/julia",
   "name": "julia",
   "version": "1.8.0"
  },
  "orig_nbformat": 4
 },
 "nbformat": 4,
 "nbformat_minor": 2
}
